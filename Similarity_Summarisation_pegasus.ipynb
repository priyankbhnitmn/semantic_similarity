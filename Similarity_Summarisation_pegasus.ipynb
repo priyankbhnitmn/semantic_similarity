{
 "cells": [
  {
   "cell_type": "code",
   "execution_count": 1,
   "metadata": {
    "id": "HHS7S9OnmiOz"
   },
   "outputs": [],
   "source": [
    "# !pip install transformers==3.5"
   ]
  },
  {
   "cell_type": "code",
   "execution_count": 2,
   "metadata": {
    "id": "MfglfyUNrtfY"
   },
   "outputs": [],
   "source": [
    "from absl import logging\n",
    "from transformers import PegasusForConditionalGeneration, PegasusTokenizer\n",
    "import torch\n",
    "import tensorflow as tf\n",
    "import tensorflow_hub as hub\n",
    "import matplotlib.pyplot as plt\n",
    "import numpy as np\n",
    "import os\n",
    "import pandas as pd\n",
    "import re\n",
    "import seaborn as sns\n",
    "import pandas as pd\n",
    "from pandas import ExcelWriter"
   ]
  },
  {
   "cell_type": "code",
   "execution_count": 3,
   "metadata": {
    "colab": {
     "base_uri": "https://localhost:8080/"
    },
    "id": "hIR6k282HkHp",
    "outputId": "e1600e1c-df3f-4edb-eba2-e5f468f0fc97"
   },
   "outputs": [
    {
     "name": "stderr",
     "output_type": "stream",
     "text": [
      "INFO:absl:resolver HttpCompressedFileResolver does not support the provided handle.\n",
      "INFO:absl:resolver GcsCompressedFileResolver does not support the provided handle.\n"
     ]
    },
    {
     "name": "stdout",
     "output_type": "stream",
     "text": [
      "module https://tfhub.dev/google/universal-sentence-encoder/4 loaded\n"
     ]
    }
   ],
   "source": [
    "module_url = \"https://tfhub.dev/google/universal-sentence-encoder/4\"\n",
    "model_use = hub.load(module_url)\n",
    "print (\"module %s loaded\" % module_url)\n",
    "def embed(input):\n",
    "  return model_use(input)"
   ]
  },
  {
   "cell_type": "code",
   "execution_count": 4,
   "metadata": {
    "id": "me4KGE1IsP3a"
   },
   "outputs": [],
   "source": [
    "# word = \"Elephant\"\n",
    "# sentence = \"I am a sentence for which I would like to get its embedding.\"\n",
    "# paragraph = (\n",
    "#     \"Universal Sentence Encoder embeddings also support short paragraphs. \"\n",
    "#     \"There is no hard limit on how long the paragraph is. Roughly, the longer \"\n",
    "#     \"the more 'diluted' the embedding will be.\")\n",
    "# messages = [word, sentence, paragraph]\n",
    "\n",
    "# # Reduce logging output.\n",
    "# # logging.set_verbosity(logging.ERROR)\n",
    "\n",
    "# message_embeddings = embed(messages)\n",
    "# message_embeddings"
   ]
  },
  {
   "cell_type": "code",
   "execution_count": 5,
   "metadata": {
    "id": "U2RRBuIVsi8a"
   },
   "outputs": [],
   "source": [
    "dic_list = [\"Equity\", \"Asia\", \"Japan\", \"US\", \"sell\", \"volatility\", \"income\", \"Bonds\", \"USD\", \"attractive\", \"Gold\", \"yield\", \"gradual\", \"recovery\", \"inflation\", \"USD\", \"weakness\", \"EU\", \"AUD\", \"GBP\", \"CNY\", \"Forecasters\", \"probability\", \"US\", \"outcome\", \"Rise\", \"US\", \"Europe\", \"outcome\", \"Rise\", \"US\", \"Europe\", \"Treasury\", \"yield\", \"gains\", \"limiting\", \"risk\", \"Rise\", \"government bonds\", \"10 years\", \"yield\", \"short term\", \"UK\", \"EU\", \"blow hot and cold\"]"
   ]
  },
  {
   "cell_type": "code",
   "execution_count": 6,
   "metadata": {
    "id": "To4dFP9rsoR4"
   },
   "outputs": [],
   "source": [
    "dic = {\"gradual recovery\": \"Rise\"}"
   ]
  },
  {
   "cell_type": "code",
   "execution_count": 24,
   "metadata": {
    "id": "UpZmNq8BsqV8"
   },
   "outputs": [],
   "source": [
    "# corpus = [\"Investment strategy IMPLICATIONS FOR INVESTORS • Global equities, credit and multi-asset income strategies are likely to outperform government bonds and cash over a 12- month horizon\", \"• Within equities, we have a preference for Asia ex- Japan and the US. We would also sell equity volatility for income\", \"• Within bonds, we believe DM HY, EM USD and Asia USD bonds are attractive\", \"• Gold is likely to perform well amid capped bond yields and a gradual recovery in inflation\", \"• USD weakness is likely to resume against the EUR, AUD, GBP and CNY\", \"US elections: A tight finish • A Biden win and a modest Democrat Senate majority is our central scenario for the US Presidential election, an outcome increasingly favoured by polls and consensus. However, details show the race is closer than the headline suggests.\", \"• We believe most scenarios are positive for risk assets, but sector, region or country equity market impacts could differ. A contested outcome could lead to a pullback in risky assets, albeit a short-lived one. We would be prepared to add to our preferred assets on pullbacks.\", \"• Beyond the election, we are watching resurgent COVID-19 infections, rising Treasury yields and Brexit risks. Equities, credit and multi-asset income strategies remain preferred.\", \"Investing around a US presidential election Equity and credit markets rose for most of the past month, but pulled back over the past few days amid uncertainty around the outcome of the US elections and rising COVID-19 cases.\", \"The key market focus in the near term, unsurprisingly, is likely to be the US election.\", \"Most mainstream polls and market behaviour suggest the consensus is pointing to a Biden win (RealClearPolitics: 62-69% [betting markets] and 48-54% [polls]).\", \"As we have argued before, we believe a clear win by either candidate is likely to be positive for risk assets (albeit with differing sector or regional impacts – see page 9).\", \"A Biden win, balanced by a narrow Democrat majority, is likely to be the most positive outcome for markets if it helps limit the Democrats’ ability to push through tax hikes.\", \"However, a messy contested outcome that triggers a temporary risk asset pullback remains a risk as: • Polls have a poor track record based on recent elections; in several swing states, polls are well within their 3-4% margin of error\", \"• A likely higher-than-usual number of postal ballots this time raise the risk of legal challenges and allegations of vote fraud\", \"• An inconclusive Electoral College vote remains a possibility Hence, at least in the short term, we believe investors should be prepared for a range of scenarios, depending on how the election outcome unfolds. See pages 7-9 for a detailed analysis and potential short-term asset class winners and losers.\", \"Forecasters assign low probability that US election outcome is resolved within election week Rising positive COVID-19 test results in the US and Europe imply the virus is spreading at a faster pace\", \"The short term vs. the long term Regardless of which scenario unfolds after the Election Day, we believe much of the market risk is likely to be concentrated on a relatively short horizon.\", \"Recall that in the contested 2000 Bush-Al Gore election, the legal challenge was closed in 36 days, albeit accompanied by a c.10% pullback in the S&P 500 index from Election Day until Al Gore’s concession.\", \"A longer history (to the early 1800s) shows that two US elections resulted in an inconclusive Electoral College vote, while a third was characterised by allegations of voter fraud.\", \"However, each of these elections resulted in a President being ultimately elected as the process ran its course.\", \"For investors, this means focusing on two things, in our view.\", \"We believe there is value in having adequate holding power, should greater-than-expected volatility unfold.\", \"However, we would also be prepared to take advantage of any such volatility, either by adding to our preferred asset classes or by selling short-lived spikes in volatility to generate income.\", \"Fig. 3 US Treasury yield gains have been led by rising inflation expectations, limiting the risk to equities\", \"Avoiding election tunnel visionWhile there is a significant near-term focus on US elections, we would not lose sight of three other key trends: • The known risk of an autumn rise in COVID-19 infections in the northern hemisphere appears to be playing out in Europe and, increasingly, in the US.\", \"Europe’s renewed containment efforts could raise downside risks to growth, risking a reversal of recent growth improvements in both Europe and the US, particularly since a pre-election US fiscal stimulus looks increasingly unlikely.\", \"• A technical lens argues the 10-year government bond yield could rise further above 1% in the short term.\", \"However, we note that the rise has been largely driven by improving inflation expectations, leaving real yield (i.e. net-of-inflation yields) largely range-bound.\", \"This limits the potential negative impact on equities and gold, in our assessment.\", \"• Finally, the UK and EU continue to blow hot and cold on Brexit.\", \"We continue to expect a no-deal outcome to be avoided, though bargaining strategies are pushing any agreement increasingly down to the wire, as expected.\", \"Retain conviction on risk assets We continue to believe that, sector-specific policies notwithstanding, all US presidential election outcomes are likely to be positive for risk assets in the medium term.\", \"A Trump outcome implies a quick return to status quo, while a Biden outcome is likely to involve significant ‘green’ stimulus – see page 9 for our assessment of sector-specific impacts.\", \"On a 12-month horizon, thus, we remain comfortable with our preference for equities and corporate/EM bonds and expectations of a weaker USD.\", \"The sideways trend in real bond yields could leave gold range-bound for a little longer, though we believe it remains a matter of time before real yields resume their fall, underpinning the precious metal.\"]\n",
    "corpus_list = [[\"• A Biden win and a modest Democrat Senate majority is our central scenario for the US Presidential election, an outcome increasingly favoured by polls and consensus.\", \"However, details show the race is closer than the headline suggests.\", \"• We believe most scenarios are positive for risk assets, but sector, region or country equity market impacts could differ.\", \"A contested outcome could lead to a pullback in risky assets, albeit a short-lived one.\", \"We would be prepared to add to our preferred assets on pullbacks\", \"Beyond the election, we are watching resurgent COVID-19 infections, rising Treasury yields and Brexit risks.\", \"Equities, credit and multi-asset income strategies remain preferred.\"], [\"Equity and credit markets rose for most of the past month, but pulled back over the past few days amid uncertainty around the outcome of the US elections and rising COVID-19 cases.\", \"The key market focus in the near term, unsurprisingly, is likely to be the US election.\", \"Most mainstream polls and market behaviour suggest the consensus is pointing to a Biden win (RealClearPolitics: 62-69% [betting markets] and 48-54% [polls]).\", \"As we have argued before, we believe a clear win by either candidate is likely to be positive for risk assets (albeit with differing sector or regional impacts – see page 9).\", \"A Biden win, balanced by a narrow Democrat majority, is likely to be the most positive outcome for markets if it helps limit the Democrats’ ability to push through tax hikes.\", \"However, a messy contested outcome that triggers a temporary risk asset pullback remains a risk as: • Polls have a poor track record based on recent elections; in several swing states, polls are well within their 3-4% margin of error\", \"• A likely higher-than-usual number of postal ballots this time raise the risk of legal challenges and allegations of vote fraud\", \"• An inconclusive Electoral College vote remains a possibility Hence, at least in the short term, we believe investors should be prepared for a range of scenarios, depending on how the election outcome unfolds.\", \"See pages 7-9 for a detailed analysis and potential short-term asset class winners and losers.\", \"Forecasters assign low probability that US election outcome is resolved within election week\", \"Rising positive COVID-19 test results in the US and Europe imply the virus is spreading at a faster pace\"], [\"• Global equities, credit and multi-asset income strategies are likely to outperform government bonds and cash over a 12- month horizon\", \"• Within equities, we have a preference for Asia ex- Japan and the US. We would also sell equity volatility for income\", \"• Within bonds, we believe DM HY, EM USD and Asia USD bonds are attractive\", \"• Gold is likely to perform well amid capped bond yields and a gradual recovery in inflation\", \"• USD weakness is likely to resume against the EUR, AUD, GBP and CNY\"], [\"Regardless of which scenario unfolds after the Election Day, we believe much of the market risk is likely to be concentrated on a relatively short horizon.\", \"Recall that in the contested 2000Bush-Al Gore election, the legal challenge was closed in 36 days, albeit accompanied by a c.10% pullback in the S&P 500 index from Election Day until Al Gore’s concession.\", \"A longer history (to the early 1800s) shows that two US elections resulted in an inconclusive Electoral College vote, while a third was characterised by allegations of voter fraud.\", \"However, each of these elections resulted in a President being ultimately elected as the process ran its course.\", \"For investors, this means focusing on two things, in our view.\", \"We believe there is value in having adequate holding power, should greater-than-expected volatility unfold.\", \"However, we would also be prepared to take advantage of any such volatility, either by adding to our preferred asset classes or by selling short-lived spikes in volatility to generate income.\", \"Fig. 3 US Treasury yield gains have been led by risinginflation expectations, limiting the risk to equities\"], [\"While there is a significant near-term focus on US elections, we would not lose sight of three other key trends:\", \"• The known risk of an autumn rise in COVID-19 infections in the northern hemisphere appears to be playing out in Europe and, increasingly, in the US.\", \"Europe’s renewed containment efforts could raise downside risks to growth, risking a reversal of recent growth improvements in both Europe and the US, particularly since a pre-election US fiscal stimulus looks increasingly unlikely.\", \"• A technical lens argues the 10-year government bond yield could rise further above 1% in the short term.\", \"However, we note that the rise has been largely driven by improving inflation expectations, leaving real yield (i.e. net-of-inflation yields) largely range-bound.\", \"This limits the potential negative impact on equities and gold, in our assessment.\", \"• Finally, the UK and EU continue to blow hot and cold on Brexit.\", \"We continue to expect a no-deal outcome to be avoided, though bargaining strategies are pushing any agreement increasingly down to the wire, as expected.\"], [\"We continue to believe that, sector-specific policies notwithstanding, all US presidential election outcomes are likely to be positive for risk assets in the medium term.\", \"A Trump outcome implies a quick return to status quo, while a Biden outcome is likely to involve significant ‘green’ stimulus – see page 9 for our assessment of sector-specific impacts.\", \"On a 12-month horizon, thus, we remain comfortable with our preference for equities and corporate/EM bonds and expectations of a weaker USD.\", \"The sideways trend in real bond yields could leave gold range-bound for a little longer, though we believe it remains a matter of time before real yields resume their fall, underpinning the precious metal.\"]]\n"
   ]
  },
  {
   "cell_type": "code",
   "execution_count": 25,
   "metadata": {
    "colab": {
     "base_uri": "https://localhost:8080/"
    },
    "id": "nPngjaeEJjOS",
    "outputId": "b9f3e4f1-07a9-4462-ac4f-277d96b16554"
   },
   "outputs": [
    {
     "data": {
      "text/plain": [
       "6"
      ]
     },
     "execution_count": 25,
     "metadata": {
      "tags": []
     },
     "output_type": "execute_result"
    }
   ],
   "source": [
    "len(corpus_list)"
   ]
  },
  {
   "cell_type": "code",
   "execution_count": 26,
   "metadata": {
    "id": "Zcrzax_AssZA"
   },
   "outputs": [],
   "source": [
    "def create_simi(corpus_, dic_list_):\n",
    "  selected_sen = []\n",
    "  for i in corpus_:\n",
    "    for j in dic_list_:\n",
    "      message_c = [i, j]\n",
    "      features = embed(message_c)\n",
    "      corr = np.inner(features, features)\n",
    "      corr_l = corr.tolist()\n",
    "      if corr_l[0][1] > 0.22:\n",
    "        selected_sen.append(i)\n",
    "        break\n",
    "      # score_list.append(corr_l[0][1])\n",
    "  input = ''.join(selected_sen)\n",
    "  return [input]"
   ]
  },
  {
   "cell_type": "code",
   "execution_count": 27,
   "metadata": {
    "colab": {
     "base_uri": "https://localhost:8080/"
    },
    "id": "SyMyXUQTIh6D",
    "outputId": "44d2db88-d864-4370-e8b4-064428672aa8"
   },
   "outputs": [
    {
     "name": "stdout",
     "output_type": "stream",
     "text": [
      "['• A Biden win and a modest Democrat Senate majority is our central scenario for the US Presidential election, an outcome increasingly favoured by polls and consensus.', 'However, details show the race is closer than the headline suggests.', '• We believe most scenarios are positive for risk assets, but sector, region or country equity market impacts could differ.', 'A contested outcome could lead to a pullback in risky assets, albeit a short-lived one.', 'We would be prepared to add to our preferred assets on pullbacks', 'Beyond the election, we are watching resurgent COVID-19 infections, rising Treasury yields and Brexit risks.', 'Equities, credit and multi-asset income strategies remain preferred.']\n",
      "['• We believe most scenarios are positive for risk assets, but sector, region or country equity market impacts could differ.A contested outcome could lead to a pullback in risky assets, albeit a short-lived one.Beyond the election, we are watching resurgent COVID-19 infections, rising Treasury yields and Brexit risks.']\n",
      "['Equity and credit markets rose for most of the past month, but pulled back over the past few days amid uncertainty around the outcome of the US elections and rising COVID-19 cases.', 'The key market focus in the near term, unsurprisingly, is likely to be the US election.', 'Most mainstream polls and market behaviour suggest the consensus is pointing to a Biden win (RealClearPolitics: 62-69% [betting markets] and 48-54% [polls]).', 'As we have argued before, we believe a clear win by either candidate is likely to be positive for risk assets (albeit with differing sector or regional impacts – see page 9).', 'A Biden win, balanced by a narrow Democrat majority, is likely to be the most positive outcome for markets if it helps limit the Democrats’ ability to push through tax hikes.', 'However, a messy contested outcome that triggers a temporary risk asset pullback remains a risk as: • Polls have a poor track record based on recent elections; in several swing states, polls are well within their 3-4% margin of error', '• A likely higher-than-usual number of postal ballots this time raise the risk of legal challenges and allegations of vote fraud', '• An inconclusive Electoral College vote remains a possibility Hence, at least in the short term, we believe investors should be prepared for a range of scenarios, depending on how the election outcome unfolds.', 'See pages 7-9 for a detailed analysis and potential short-term asset class winners and losers.', 'Forecasters assign low probability that US election outcome is resolved within election week', 'Rising positive COVID-19 test results in the US and Europe imply the virus is spreading at a faster pace']\n",
      "['Equity and credit markets rose for most of the past month, but pulled back over the past few days amid uncertainty around the outcome of the US elections and rising COVID-19 cases.Most mainstream polls and market behaviour suggest the consensus is pointing to a Biden win (RealClearPolitics: 62-69% [betting markets] and 48-54% [polls]).As we have argued before, we believe a clear win by either candidate is likely to be positive for risk assets (albeit with differing sector or regional impacts – see page 9).However, a messy contested outcome that triggers a temporary risk asset pullback remains a risk as: • Polls have a poor track record based on recent elections; in several swing states, polls are well within their 3-4% margin of error• An inconclusive Electoral College vote remains a possibility Hence, at least in the short term, we believe investors should be prepared for a range of scenarios, depending on how the election outcome unfolds.Forecasters assign low probability that US election outcome is resolved within election week']\n",
      "['• Global equities, credit and multi-asset income strategies are likely to outperform government bonds and cash over a 12- month horizon', '• Within equities, we have a preference for Asia ex- Japan and the US. We would also sell equity volatility for income', '• Within bonds, we believe DM HY, EM USD and Asia USD bonds are attractive', '• Gold is likely to perform well amid capped bond yields and a gradual recovery in inflation', '• USD weakness is likely to resume against the EUR, AUD, GBP and CNY']\n",
      "['• Global equities, credit and multi-asset income strategies are likely to outperform government bonds and cash over a 12- month horizon• Within equities, we have a preference for Asia ex- Japan and the US. We would also sell equity volatility for income• Within bonds, we believe DM HY, EM USD and Asia USD bonds are attractive• Gold is likely to perform well amid capped bond yields and a gradual recovery in inflation• USD weakness is likely to resume against the EUR, AUD, GBP and CNY']\n",
      "['Regardless of which scenario unfolds after the Election Day, we believe much of the market risk is likely to be concentrated on a relatively short horizon.', 'Recall that in the contested 2000Bush-Al Gore election, the legal challenge was closed in 36 days, albeit accompanied by a c.10% pullback in the S&P 500 index from Election Day until Al Gore’s concession.', 'A longer history (to the early 1800s) shows that two US elections resulted in an inconclusive Electoral College vote, while a third was characterised by allegations of voter fraud.', 'However, each of these elections resulted in a President being ultimately elected as the process ran its course.', 'For investors, this means focusing on two things, in our view.', 'We believe there is value in having adequate holding power, should greater-than-expected volatility unfold.', 'However, we would also be prepared to take advantage of any such volatility, either by adding to our preferred asset classes or by selling short-lived spikes in volatility to generate income.', 'Fig. 3 US Treasury yield gains have been led by risinginflation expectations, limiting the risk to equities']\n",
      "['Regardless of which scenario unfolds after the Election Day, we believe much of the market risk is likely to be concentrated on a relatively short horizon.Recall that in the contested 2000Bush-Al Gore election, the legal challenge was closed in 36 days, albeit accompanied by a c.10% pullback in the S&P 500 index from Election Day until Al Gore’s concession.We believe there is value in having adequate holding power, should greater-than-expected volatility unfold.However, we would also be prepared to take advantage of any such volatility, either by adding to our preferred asset classes or by selling short-lived spikes in volatility to generate income.Fig. 3 US Treasury yield gains have been led by risinginflation expectations, limiting the risk to equities']\n",
      "['While there is a significant near-term focus on US elections, we would not lose sight of three other key trends:', '• The known risk of an autumn rise in COVID-19 infections in the northern hemisphere appears to be playing out in Europe and, increasingly, in the US.', 'Europe’s renewed containment efforts could raise downside risks to growth, risking a reversal of recent growth improvements in both Europe and the US, particularly since a pre-election US fiscal stimulus looks increasingly unlikely.', '• A technical lens argues the 10-year government bond yield could rise further above 1% in the short term.', 'However, we note that the rise has been largely driven by improving inflation expectations, leaving real yield (i.e. net-of-inflation yields) largely range-bound.', 'This limits the potential negative impact on equities and gold, in our assessment.', '• Finally, the UK and EU continue to blow hot and cold on Brexit.', 'We continue to expect a no-deal outcome to be avoided, though bargaining strategies are pushing any agreement increasingly down to the wire, as expected.']\n",
      "['• A technical lens argues the 10-year government bond yield could rise further above 1% in the short term.However, we note that the rise has been largely driven by improving inflation expectations, leaving real yield (i.e. net-of-inflation yields) largely range-bound.• Finally, the UK and EU continue to blow hot and cold on Brexit.']\n",
      "['We continue to believe that, sector-specific policies notwithstanding, all US presidential election outcomes are likely to be positive for risk assets in the medium term.', 'A Trump outcome implies a quick return to status quo, while a Biden outcome is likely to involve significant ‘green’ stimulus – see page 9 for our assessment of sector-specific impacts.', 'On a 12-month horizon, thus, we remain comfortable with our preference for equities and corporate/EM bonds and expectations of a weaker USD.', 'The sideways trend in real bond yields could leave gold range-bound for a little longer, though we believe it remains a matter of time before real yields resume their fall, underpinning the precious metal.']\n",
      "['We continue to believe that, sector-specific policies notwithstanding, all US presidential election outcomes are likely to be positive for risk assets in the medium term.On a 12-month horizon, thus, we remain comfortable with our preference for equities and corporate/EM bonds and expectations of a weaker USD.The sideways trend in real bond yields could leave gold range-bound for a little longer, though we believe it remains a matter of time before real yields resume their fall, underpinning the precious metal.']\n"
     ]
    }
   ],
   "source": [
    "src_txt_list = []\n",
    "for corpus in corpus_list:\n",
    "  print(corpus)\n",
    "  src_txt = create_simi(corpus, dic_list)\n",
    "  print(src_txt)\n",
    "  src_txt_list.append(src_txt)"
   ]
  },
  {
   "cell_type": "code",
   "execution_count": 28,
   "metadata": {
    "colab": {
     "base_uri": "https://localhost:8080/"
    },
    "id": "J0OunWrcsz15",
    "outputId": "51062612-e7d2-484b-fb15-1df36d5c90b4"
   },
   "outputs": [
    {
     "data": {
      "text/plain": [
       "6"
      ]
     },
     "execution_count": 28,
     "metadata": {
      "tags": []
     },
     "output_type": "execute_result"
    }
   ],
   "source": [
    "len(src_txt_list)"
   ]
  },
  {
   "cell_type": "code",
   "execution_count": 29,
   "metadata": {
    "colab": {
     "base_uri": "https://localhost:8080/"
    },
    "id": "jQzv_undMBYH",
    "outputId": "cf1781c4-a9e4-471f-9106-3244dd8a17e1"
   },
   "outputs": [
    {
     "data": {
      "text/plain": [
       "[['• We believe most scenarios are positive for risk assets, but sector, region or country equity market impacts could differ.A contested outcome could lead to a pullback in risky assets, albeit a short-lived one.Beyond the election, we are watching resurgent COVID-19 infections, rising Treasury yields and Brexit risks.'],\n",
       " ['Equity and credit markets rose for most of the past month, but pulled back over the past few days amid uncertainty around the outcome of the US elections and rising COVID-19 cases.Most mainstream polls and market behaviour suggest the consensus is pointing to a Biden win (RealClearPolitics: 62-69% [betting markets] and 48-54% [polls]).As we have argued before, we believe a clear win by either candidate is likely to be positive for risk assets (albeit with differing sector or regional impacts – see page 9).However, a messy contested outcome that triggers a temporary risk asset pullback remains a risk as: • Polls have a poor track record based on recent elections; in several swing states, polls are well within their 3-4% margin of error• An inconclusive Electoral College vote remains a possibility Hence, at least in the short term, we believe investors should be prepared for a range of scenarios, depending on how the election outcome unfolds.Forecasters assign low probability that US election outcome is resolved within election week'],\n",
       " ['• Global equities, credit and multi-asset income strategies are likely to outperform government bonds and cash over a 12- month horizon• Within equities, we have a preference for Asia ex- Japan and the US. We would also sell equity volatility for income• Within bonds, we believe DM HY, EM USD and Asia USD bonds are attractive• Gold is likely to perform well amid capped bond yields and a gradual recovery in inflation• USD weakness is likely to resume against the EUR, AUD, GBP and CNY'],\n",
       " ['Regardless of which scenario unfolds after the Election Day, we believe much of the market risk is likely to be concentrated on a relatively short horizon.Recall that in the contested 2000Bush-Al Gore election, the legal challenge was closed in 36 days, albeit accompanied by a c.10% pullback in the S&P 500 index from Election Day until Al Gore’s concession.We believe there is value in having adequate holding power, should greater-than-expected volatility unfold.However, we would also be prepared to take advantage of any such volatility, either by adding to our preferred asset classes or by selling short-lived spikes in volatility to generate income.Fig. 3 US Treasury yield gains have been led by risinginflation expectations, limiting the risk to equities'],\n",
       " ['• A technical lens argues the 10-year government bond yield could rise further above 1% in the short term.However, we note that the rise has been largely driven by improving inflation expectations, leaving real yield (i.e. net-of-inflation yields) largely range-bound.• Finally, the UK and EU continue to blow hot and cold on Brexit.'],\n",
       " ['We continue to believe that, sector-specific policies notwithstanding, all US presidential election outcomes are likely to be positive for risk assets in the medium term.On a 12-month horizon, thus, we remain comfortable with our preference for equities and corporate/EM bonds and expectations of a weaker USD.The sideways trend in real bond yields could leave gold range-bound for a little longer, though we believe it remains a matter of time before real yields resume their fall, underpinning the precious metal.']]"
      ]
     },
     "execution_count": 29,
     "metadata": {
      "tags": []
     },
     "output_type": "execute_result"
    }
   ],
   "source": [
    "src_txt_list"
   ]
  },
  {
   "cell_type": "code",
   "execution_count": 30,
   "metadata": {
    "id": "6nBjT5QQtmfc"
   },
   "outputs": [],
   "source": [
    "model_name = 'google/pegasus-xsum'"
   ]
  },
  {
   "cell_type": "code",
   "execution_count": 31,
   "metadata": {
    "id": "ItdBBHlct0Zu"
   },
   "outputs": [],
   "source": [
    "torch_device = 'cuda' if torch.cuda.is_available() else 'cpu'\n",
    "tokenizer = PegasusTokenizer.from_pretrained(model_name)"
   ]
  },
  {
   "cell_type": "code",
   "execution_count": 15,
   "metadata": {
    "id": "J8OBZjtOviAx"
   },
   "outputs": [],
   "source": [
    "model_pega = PegasusForConditionalGeneration.from_pretrained(model_name).to(torch_device)"
   ]
  },
  {
   "cell_type": "code",
   "execution_count": 32,
   "metadata": {
    "id": "tgfv7FqcNQb9"
   },
   "outputs": [],
   "source": [
    "tgt_text_list = []\n"
   ]
  },
  {
   "cell_type": "code",
   "execution_count": 33,
   "metadata": {
    "id": "6viFN3Tjt3vV"
   },
   "outputs": [],
   "source": [
    "for src_txtx in src_txt_list:\n",
    "  batch = tokenizer.prepare_seq2seq_batch(src_txtx, truncation=True, padding='longest', return_tensors=\"pt\").to(torch_device)\n",
    "  translated = model_pega.generate(**batch)\n",
    "  tgt_text = tokenizer.batch_decode(translated, skip_special_tokens=True)\n",
    "  tgt_text_list.append(tgt_text)"
   ]
  },
  {
   "cell_type": "code",
   "execution_count": 34,
   "metadata": {
    "colab": {
     "base_uri": "https://localhost:8080/"
    },
    "id": "hjq3mXVKt9rQ",
    "outputId": "3a70d929-8d9b-4d7b-e5e8-1f33e4b8811f"
   },
   "outputs": [
    {
     "data": {
      "text/plain": [
       "6"
      ]
     },
     "execution_count": 34,
     "metadata": {
      "tags": []
     },
     "output_type": "execute_result"
    }
   ],
   "source": [
    "len(tgt_text_list)"
   ]
  },
  {
   "cell_type": "code",
   "execution_count": 35,
   "metadata": {
    "colab": {
     "base_uri": "https://localhost:8080/"
    },
    "id": "1EHXpqE0uXGJ",
    "outputId": "a7d21004-9e2b-46fc-c015-4968a5e290ad"
   },
   "outputs": [
    {
     "data": {
      "text/plain": [
       "[['With the UK general election less than two weeks away, we take a look at the risks facing investors.'],\n",
       " ['Investors should be prepared for a range of scenarios, depending on how the US election outcome unfolds, according to analysts at Credit Suisse.'],\n",
       " ['We expect global markets to remain volatile over the next 12 months as investors remain cautious ahead of the US election.'],\n",
       " ['In our view, the most likely outcome of the US presidential election is a hung parliament, with neither candidate winning a majority of votes.'],\n",
       " ['The yield on the benchmark 10-year US government bond has risen above 1% for the first time in more than three years.'],\n",
       " ['We continue to expect the US Federal Reserve to raise interest rates at its December meeting.']]"
      ]
     },
     "execution_count": 35,
     "metadata": {
      "tags": []
     },
     "output_type": "execute_result"
    }
   ],
   "source": [
    "tgt_text_list"
   ]
  },
  {
   "cell_type": "code",
   "execution_count": 19,
   "metadata": {
    "id": "-PjbqrbPLbLI"
   },
   "outputs": [],
   "source": []
  },
  {
   "cell_type": "code",
   "execution_count": 36,
   "metadata": {
    "id": "eJCIFRC_ORLB"
   },
   "outputs": [],
   "source": [
    "df = pd.DataFrame({\"Corpus\": corpus_list, \"Semantic similarity Output\": src_txt_list, \"Summarised output\": tgt_text_list}) "
   ]
  },
  {
   "cell_type": "code",
   "execution_count": 37,
   "metadata": {
    "colab": {
     "base_uri": "https://localhost:8080/",
     "height": 337
    },
    "id": "xyA3t7uKPY0y",
    "outputId": "32d8abea-cb8c-4e80-e831-5a9ebbdf6827"
   },
   "outputs": [
    {
     "data": {
      "text/html": [
       "<div>\n",
       "<style scoped>\n",
       "    .dataframe tbody tr th:only-of-type {\n",
       "        vertical-align: middle;\n",
       "    }\n",
       "\n",
       "    .dataframe tbody tr th {\n",
       "        vertical-align: top;\n",
       "    }\n",
       "\n",
       "    .dataframe thead th {\n",
       "        text-align: right;\n",
       "    }\n",
       "</style>\n",
       "<table border=\"1\" class=\"dataframe\">\n",
       "  <thead>\n",
       "    <tr style=\"text-align: right;\">\n",
       "      <th></th>\n",
       "      <th>Corpus</th>\n",
       "      <th>Semantic similarity Output</th>\n",
       "      <th>Summarised output</th>\n",
       "    </tr>\n",
       "  </thead>\n",
       "  <tbody>\n",
       "    <tr>\n",
       "      <th>0</th>\n",
       "      <td>[• A Biden win and a modest Democrat Senate ma...</td>\n",
       "      <td>[• We believe most scenarios are positive for ...</td>\n",
       "      <td>[With the UK general election less than two we...</td>\n",
       "    </tr>\n",
       "    <tr>\n",
       "      <th>1</th>\n",
       "      <td>[Equity and credit markets rose for most of th...</td>\n",
       "      <td>[Equity and credit markets rose for most of th...</td>\n",
       "      <td>[Investors should be prepared for a range of s...</td>\n",
       "    </tr>\n",
       "    <tr>\n",
       "      <th>2</th>\n",
       "      <td>[• Global equities, credit and multi-asset inc...</td>\n",
       "      <td>[• Global equities, credit and multi-asset inc...</td>\n",
       "      <td>[We expect global markets to remain volatile o...</td>\n",
       "    </tr>\n",
       "    <tr>\n",
       "      <th>3</th>\n",
       "      <td>[Regardless of which scenario unfolds after th...</td>\n",
       "      <td>[Regardless of which scenario unfolds after th...</td>\n",
       "      <td>[In our view, the most likely outcome of the U...</td>\n",
       "    </tr>\n",
       "    <tr>\n",
       "      <th>4</th>\n",
       "      <td>[While there is a significant near-term focus ...</td>\n",
       "      <td>[• A technical lens argues the 10-year governm...</td>\n",
       "      <td>[The yield on the benchmark 10-year US governm...</td>\n",
       "    </tr>\n",
       "    <tr>\n",
       "      <th>5</th>\n",
       "      <td>[We continue to believe that, sector-specific ...</td>\n",
       "      <td>[We continue to believe that, sector-specific ...</td>\n",
       "      <td>[We continue to expect the US Federal Reserve ...</td>\n",
       "    </tr>\n",
       "  </tbody>\n",
       "</table>\n",
       "</div>"
      ],
      "text/plain": [
       "                                              Corpus  ...                                  Summarised output\n",
       "0  [• A Biden win and a modest Democrat Senate ma...  ...  [With the UK general election less than two we...\n",
       "1  [Equity and credit markets rose for most of th...  ...  [Investors should be prepared for a range of s...\n",
       "2  [• Global equities, credit and multi-asset inc...  ...  [We expect global markets to remain volatile o...\n",
       "3  [Regardless of which scenario unfolds after th...  ...  [In our view, the most likely outcome of the U...\n",
       "4  [While there is a significant near-term focus ...  ...  [The yield on the benchmark 10-year US governm...\n",
       "5  [We continue to believe that, sector-specific ...  ...  [We continue to expect the US Federal Reserve ...\n",
       "\n",
       "[6 rows x 3 columns]"
      ]
     },
     "execution_count": 37,
     "metadata": {
      "tags": []
     },
     "output_type": "execute_result"
    }
   ],
   "source": [
    "df"
   ]
  },
  {
   "cell_type": "code",
   "execution_count": 38,
   "metadata": {
    "id": "RiySUn3FP3H8"
   },
   "outputs": [],
   "source": [
    "writer = ExcelWriter('Results.xlsx')\n",
    "df.to_excel(writer,'Sheet1')\n",
    "writer.save()"
   ]
  },
  {
   "cell_type": "code",
   "execution_count": 22,
   "metadata": {
    "id": "UMToC4ntQ2zI"
   },
   "outputs": [],
   "source": []
  }
 ],
 "metadata": {
  "colab": {
   "name": "Untitled36.ipynb",
   "provenance": []
  },
  "kernelspec": {
   "display_name": "Python 3",
   "language": "python",
   "name": "python3"
  },
  "language_info": {
   "codemirror_mode": {
    "name": "ipython",
    "version": 3
   },
   "file_extension": ".py",
   "mimetype": "text/x-python",
   "name": "python",
   "nbconvert_exporter": "python",
   "pygments_lexer": "ipython3",
   "version": "3.7.3"
  }
 },
 "nbformat": 4,
 "nbformat_minor": 1
}
